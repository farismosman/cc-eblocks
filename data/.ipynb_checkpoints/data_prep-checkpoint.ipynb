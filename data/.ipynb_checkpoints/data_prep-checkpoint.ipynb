{
 "cells": [
  {
   "cell_type": "code",
   "execution_count": 1,
   "metadata": {},
   "outputs": [],
   "source": [
    "import pandas as pd"
   ]
  },
  {
   "cell_type": "markdown",
   "metadata": {},
   "source": [
    "## Greenhouse emission data"
   ]
  },
  {
   "cell_type": "code",
   "execution_count": 32,
   "metadata": {},
   "outputs": [],
   "source": [
    "co2 = pd.read_csv('ghg/co2.csv')\n",
    "ch4 = pd.read_csv('ghg/ch4.csv')\n",
    "hfc = pd.read_csv('ghg/hfc.csv')\n",
    "n2o = pd.read_csv('ghg/n2o.csv')\n",
    "nf3 = pd.read_csv('ghg/nf3.csv')\n",
    "pfc = pd.read_csv('ghg/pfc.csv')\n",
    "sf6 = pd.read_csv('ghg/sf6.csv')"
   ]
  },
  {
   "cell_type": "code",
   "execution_count": 54,
   "metadata": {},
   "outputs": [],
   "source": [
    "l = ch4.groupby('Year').sum()"
   ]
  },
  {
   "cell_type": "code",
   "execution_count": null,
   "metadata": {},
   "outputs": [],
   "source": [
    "val = l['Value'].tolist()"
   ]
  },
  {
   "cell_type": "markdown",
   "metadata": {},
   "source": [
    "## Ocean heat content"
   ]
  },
  {
   "cell_type": "markdown",
   "metadata": {},
   "source": [
    "### load and renmaing columns"
   ]
  },
  {
   "cell_type": "code",
   "execution_count": 107,
   "metadata": {},
   "outputs": [],
   "source": [
    "ocean = pd.read_csv('oceans/t00mn1.csv', delimiter=' ')"
   ]
  },
  {
   "cell_type": "code",
   "execution_count": 109,
   "metadata": {},
   "outputs": [],
   "source": [
    "ocean.columns = range(10)"
   ]
  },
  {
   "cell_type": "code",
   "execution_count": 110,
   "metadata": {},
   "outputs": [],
   "source": [
    "ocean.to_csv('oceans/data.csv')"
   ]
  },
  {
   "cell_type": "code",
   "execution_count": 57,
   "metadata": {},
   "outputs": [],
   "source": [
    "base = val[-1]\n",
    "arr = []\n",
    "for value in val:\n",
    "    arr.append((value - base)/base)"
   ]
  },
  {
   "cell_type": "code",
   "execution_count": 58,
   "metadata": {},
   "outputs": [
    {
     "data": {
      "text/plain": [
       "[0.3125801131403789,\n",
       " 0.2741243655431963,\n",
       " 0.22979168427937555,\n",
       " 0.19290242884097425,\n",
       " 0.1597717308993817,\n",
       " 0.1435352805424207,\n",
       " 0.13156381502922299,\n",
       " 0.11243513338398209,\n",
       " 0.09012523488364324,\n",
       " 0.07648016650646322,\n",
       " 0.06939090552069077,\n",
       " 0.06945716645648226,\n",
       " 0.060138969131656665,\n",
       " 0.06911795842687112,\n",
       " 0.06812785564311072,\n",
       " 0.06581024983688703,\n",
       " 0.06330871408367955,\n",
       " 0.061998898961846655,\n",
       " 0.05364014140628475,\n",
       " 0.030805375104658007,\n",
       " 0.03370037098996347,\n",
       " 0.026929304798431197,\n",
       " 0.0238967688816866,\n",
       " 0.012325400171776463,\n",
       " 0.006497716958094833,\n",
       " 0.0]"
      ]
     },
     "execution_count": 58,
     "metadata": {},
     "output_type": "execute_result"
    }
   ],
   "source": [
    "arr"
   ]
  },
  {
   "cell_type": "code",
   "execution_count": null,
   "metadata": {},
   "outputs": [],
   "source": []
  }
 ],
 "metadata": {
  "kernelspec": {
   "display_name": "Python 3",
   "language": "python",
   "name": "python3"
  },
  "language_info": {
   "codemirror_mode": {
    "name": "ipython",
    "version": 3
   },
   "file_extension": ".py",
   "mimetype": "text/x-python",
   "name": "python",
   "nbconvert_exporter": "python",
   "pygments_lexer": "ipython3",
   "version": "3.6.5"
  }
 },
 "nbformat": 4,
 "nbformat_minor": 2
}
