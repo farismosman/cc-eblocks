{
 "cells": [
  {
   "cell_type": "code",
   "execution_count": 143,
   "metadata": {},
   "outputs": [],
   "source": [
    "import pandas as pd\n",
    "import numpy as np\n",
    "from functools import reduce"
   ]
  },
  {
   "cell_type": "markdown",
   "metadata": {},
   "source": [
    "## Greenhouse emission data"
   ]
  },
  {
   "cell_type": "code",
   "execution_count": 2,
   "metadata": {},
   "outputs": [],
   "source": [
    "co2 = pd.read_csv('ghg/co2.csv')\n",
    "ch4 = pd.read_csv('ghg/ch4.csv')\n",
    "hfc = pd.read_csv('ghg/hfc.csv')\n",
    "n2o = pd.read_csv('ghg/n2o.csv')\n",
    "nf3 = pd.read_csv('ghg/nf3.csv')\n",
    "pfc = pd.read_csv('ghg/pfc.csv')\n",
    "sf6 = pd.read_csv('ghg/sf6.csv')"
   ]
  },
  {
   "cell_type": "code",
   "execution_count": 19,
   "metadata": {},
   "outputs": [],
   "source": [
    "co2_sum = co2.groupby('Year').sum()\n",
    "ch4_sum = ch4.groupby('Year').sum()\n",
    "hfc_sum = hfc.groupby('Year').sum()\n",
    "n2o_sum = n2o.groupby('Year').sum()\n",
    "nf3_sum = nf3.groupby('Year').sum()\n",
    "pfc_sum = pfc.groupby('Year').sum()\n",
    "sf6_sum = sf6.groupby('Year').sum()"
   ]
  },
  {
   "cell_type": "code",
   "execution_count": 47,
   "metadata": {},
   "outputs": [],
   "source": [
    "ghg_emission = pd.DataFrame(data = {\n",
    "    'co2': co2_sum.values.reshape(26),\n",
    "    'ch4': ch4_sum.values.reshape(26),\n",
    "    'hfc': hfc_sum.values.reshape(26),\n",
    "    'n2o': n2o_sum.values.reshape(26),\n",
    "    'nf3': nf3_sum.values.reshape(26),\n",
    "    'pfc': pfc_sum.values.reshape(26),\n",
    "    'sf6': sf6_sum.values.reshape(26),\n",
    "    'year': list(reversed(range(1990, 2016)))\n",
    "})"
   ]
  },
  {
   "cell_type": "markdown",
   "metadata": {},
   "source": [
    "### Convert data"
   ]
  },
  {
   "cell_type": "code",
   "execution_count": 62,
   "metadata": {},
   "outputs": [],
   "source": [
    "ch4_factor = 25\n",
    "hfc_factor = 14800\n",
    "n2o_factor = 298\n",
    "nf3_factor = 17200\n",
    "pfc_factor = 13300\n",
    "sf6_factor = 22800"
   ]
  },
  {
   "cell_type": "code",
   "execution_count": 63,
   "metadata": {},
   "outputs": [],
   "source": [
    "ghg_emission['ch4'] = ghg_emission['ch4'].apply(lambda x: x * ch4_factor)\n",
    "ghg_emission['hfc'] = ghg_emission['hfc'].apply(lambda x: x * hfc_factor)\n",
    "ghg_emission['n2o'] = ghg_emission['n2o'].apply(lambda x: x * n2o_factor)\n",
    "ghg_emission['nf3'] = ghg_emission['nf3'].apply(lambda x: x * nf3_factor)\n",
    "ghg_emission['pfc'] = ghg_emission['pfc'].apply(lambda x: x * pfc_factor)\n",
    "ghg_emission['sf6'] = ghg_emission['sf6'].apply(lambda x: x * sf6_factor)"
   ]
  },
  {
   "cell_type": "code",
   "execution_count": 64,
   "metadata": {},
   "outputs": [],
   "source": [
    "def compute_variance(data):\n",
    "    base = data[-1]\n",
    "    arr = []\n",
    "    for value in data:\n",
    "        arr.append((value - base)/base)\n",
    "    \n",
    "    return arr"
   ]
  },
  {
   "cell_type": "code",
   "execution_count": 65,
   "metadata": {},
   "outputs": [],
   "source": [
    "co2_var = compute_variance(ghg_emission['co2'].values)\n",
    "ch4_var = compute_variance(ghg_emission['ch4'].values)\n",
    "hfc_var = compute_variance(ghg_emission['hfc'].values)\n",
    "n2o_var = compute_variance(ghg_emission['n2o'].values)\n",
    "nf3_var = compute_variance(ghg_emission['nf3'].values)\n",
    "pfc_var = compute_variance(ghg_emission['pfc'].values)\n",
    "sf6_var = compute_variance(ghg_emission['sf6'].values)"
   ]
  },
  {
   "cell_type": "code",
   "execution_count": 66,
   "metadata": {},
   "outputs": [],
   "source": [
    "ghg_variation = pd.DataFrame(data = {\n",
    "    'co2': co2_var,\n",
    "    'ch4': ch4_var,\n",
    "    'hfc': hfc_var,\n",
    "    'n2o': n2o_var,\n",
    "    'nf3': nf3_var,\n",
    "    'pfc': pfc_var,\n",
    "    'sf6': sf6_var,\n",
    "    'year': list(reversed(range(1990, 2016)))\n",
    "})"
   ]
  },
  {
   "cell_type": "code",
   "execution_count": 117,
   "metadata": {},
   "outputs": [],
   "source": [
    "ghg_variation.to_csv('ghg/summerized_ghg_data.csv', index=False)"
   ]
  },
  {
   "cell_type": "markdown",
   "metadata": {},
   "source": [
    "## Ocean heat content"
   ]
  },
  {
   "cell_type": "markdown",
   "metadata": {},
   "source": [
    "### load and renmaing columns"
   ]
  },
  {
   "cell_type": "code",
   "execution_count": 118,
   "metadata": {},
   "outputs": [],
   "source": [
    "ocean = pd.read_csv('oceans/t00mn1.csv', delimiter=' ', header=None, dtype=np.float64)"
   ]
  },
  {
   "cell_type": "code",
   "execution_count": 119,
   "metadata": {},
   "outputs": [],
   "source": [
    "ocean.columns = range(10)"
   ]
  },
  {
   "cell_type": "code",
   "execution_count": 120,
   "metadata": {},
   "outputs": [],
   "source": [
    "ocean.to_csv('oceans/data.csv', index=False)"
   ]
  },
  {
   "cell_type": "code",
   "execution_count": 121,
   "metadata": {},
   "outputs": [],
   "source": [
    "ocean = pd.DataFrame(data=ocean.values.reshape((5940, 360)), columns=range(360))"
   ]
  },
  {
   "cell_type": "code",
   "execution_count": 122,
   "metadata": {
    "scrolled": true
   },
   "outputs": [],
   "source": [
    "ocean = ocean.replace(-99.0, np.NaN)"
   ]
  },
  {
   "cell_type": "code",
   "execution_count": 123,
   "metadata": {},
   "outputs": [],
   "source": [
    "years = []\n",
    "for i in range(66):\n",
    "    y = [1955 + i] * 90\n",
    "    years.extend(y)\n",
    "\n",
    "years = np.array(years)"
   ]
  },
  {
   "cell_type": "code",
   "execution_count": 124,
   "metadata": {},
   "outputs": [],
   "source": [
    "ocean['year'] = years"
   ]
  },
  {
   "cell_type": "code",
   "execution_count": 125,
   "metadata": {},
   "outputs": [],
   "source": [
    "ocean.to_csv('oceans/year_data.csv', index=False)"
   ]
  },
  {
   "cell_type": "code",
   "execution_count": 126,
   "metadata": {},
   "outputs": [],
   "source": [
    "_median = ocean.groupby('year').median()\n",
    "_mean = ocean.groupby('year').mean()\n",
    "_variance = ocean.groupby('year').var()\n",
    "_max = ocean.groupby('year').max()\n",
    "_min = ocean.groupby('year').min()"
   ]
  },
  {
   "cell_type": "code",
   "execution_count": 127,
   "metadata": {},
   "outputs": [],
   "source": [
    "_median = _median.min(axis=1).values\n",
    "_mean = _mean.min(axis=1).values\n",
    "_variance = _variance.min(axis=1).values\n",
    "_max = _max.min(axis=1).values\n",
    "_min = _min.min(axis=1).values"
   ]
  },
  {
   "cell_type": "code",
   "execution_count": 128,
   "metadata": {},
   "outputs": [],
   "source": [
    "df = pd.DataFrame(data={\n",
    "    'median': _median, \n",
    "    'mean': _mean, \n",
    "    'variance': _variance, \n",
    "    'max': _max, \n",
    "    'min': _min,\n",
    "    'year': range(1955, 2021)\n",
    "})"
   ]
  },
  {
   "cell_type": "code",
   "execution_count": 129,
   "metadata": {},
   "outputs": [],
   "source": [
    "df.to_csv('oceans/summerized_ocean_data.csv', index=False)"
   ]
  },
  {
   "cell_type": "markdown",
   "metadata": {},
   "source": [
    "## Load temperature"
   ]
  },
  {
   "cell_type": "code",
   "execution_count": 130,
   "metadata": {},
   "outputs": [],
   "source": [
    "temperatures = pd.read_csv('temperatures/GlobalLandTemperaturesByCountry.csv')"
   ]
  },
  {
   "cell_type": "code",
   "execution_count": 131,
   "metadata": {},
   "outputs": [],
   "source": [
    "temp_groups = temperatures.groupby(['dt'])"
   ]
  },
  {
   "cell_type": "code",
   "execution_count": 132,
   "metadata": {},
   "outputs": [],
   "source": [
    "_median = temp_groups.median()\n",
    "_mean = temp_groups.mean()\n",
    "_variance = temp_groups.var()\n",
    "_max = temp_groups.max()\n",
    "_min = temp_groups.min()"
   ]
  },
  {
   "cell_type": "code",
   "execution_count": 133,
   "metadata": {},
   "outputs": [],
   "source": [
    "df = pd.DataFrame(data={\n",
    "    'median': _median['AverageTemperature'].values, \n",
    "    'mean': _mean['AverageTemperature'].values, \n",
    "    'variance': _variance['AverageTemperature'].values, \n",
    "    'max': _max['AverageTemperature'].values, \n",
    "    'min': _min['AverageTemperature'].values,\n",
    "    'year': range(1743, 2014)\n",
    "})"
   ]
  },
  {
   "cell_type": "code",
   "execution_count": 134,
   "metadata": {},
   "outputs": [],
   "source": [
    "df.to_csv('temperatures/summerized_temperature_data.csv', index=False)"
   ]
  },
  {
   "cell_type": "markdown",
   "metadata": {},
   "source": [
    "## Join data"
   ]
  },
  {
   "cell_type": "code",
   "execution_count": 141,
   "metadata": {},
   "outputs": [],
   "source": [
    "ghg_variation_summery = pd.read_csv('ghg/summerized_ghg_data.csv')\n",
    "ocean_summerry = pd.read_csv('oceans/summerized_ocean_data.csv')\n",
    "temperature_summery = pd.read_csv('temperatures/summerized_temperature_data.csv')"
   ]
  },
  {
   "cell_type": "code",
   "execution_count": 148,
   "metadata": {},
   "outputs": [],
   "source": [
    "dfs = [temperature_summery, ocean_summerry, ghg_variation_summery]\n",
    "df_final = reduce(lambda left,right: pd.merge(left,right,on='year', how='outer'), dfs)"
   ]
  },
  {
   "cell_type": "code",
   "execution_count": 152,
   "metadata": {},
   "outputs": [],
   "source": [
    "df_final.to_csv('merged_data.csv')"
   ]
  }
 ],
 "metadata": {
  "kernelspec": {
   "display_name": "Python 3",
   "language": "python",
   "name": "python3"
  },
  "language_info": {
   "codemirror_mode": {
    "name": "ipython",
    "version": 3
   },
   "file_extension": ".py",
   "mimetype": "text/x-python",
   "name": "python",
   "nbconvert_exporter": "python",
   "pygments_lexer": "ipython3",
   "version": "3.6.5"
  }
 },
 "nbformat": 4,
 "nbformat_minor": 2
}
