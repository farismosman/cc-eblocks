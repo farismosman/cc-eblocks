{
 "cells": [
  {
   "cell_type": "code",
   "execution_count": 1,
   "metadata": {},
   "outputs": [],
   "source": [
    "import pandas as pd"
   ]
  },
  {
   "cell_type": "markdown",
   "metadata": {},
   "source": [
    "## Greenhouse emission data"
   ]
  },
  {
   "cell_type": "code",
   "execution_count": 32,
   "metadata": {},
   "outputs": [],
   "source": [
    "co2 = pd.read_csv('ghg/co2.csv')\n",
    "ch4 = pd.read_csv('ghg/ch4.csv')\n",
    "hfc = pd.read_csv('ghg/hfc.csv')\n",
    "n2o = pd.read_csv('ghg/n2o.csv')\n",
    "nf3 = pd.read_csv('ghg/nf3.csv')\n",
    "pfc = pd.read_csv('ghg/pfc.csv')\n",
    "sf6 = pd.read_csv('ghg/sf6.csv')"
   ]
  },
  {
   "cell_type": "code",
   "execution_count": 54,
   "metadata": {},
   "outputs": [],
   "source": [
    "l = ch4.groupby('Year').sum()"
   ]
  },
  {
   "cell_type": "code",
   "execution_count": null,
   "metadata": {},
   "outputs": [],
   "source": [
    "val = l['Value'].tolist()"
   ]
  },
  {
   "cell_type": "markdown",
   "metadata": {},
   "source": [
    "## Ocean heat content"
   ]
  },
  {
   "cell_type": "markdown",
   "metadata": {},
   "source": [
    "### load and renmaing columns"
   ]
  },
  {
   "cell_type": "code",
   "execution_count": 274,
   "metadata": {},
   "outputs": [],
   "source": [
    "ocean = pd.read_csv('oceans/t00mn1.csv', delimiter=' ', header=None, dtype=np.float64)"
   ]
  },
  {
   "cell_type": "code",
   "execution_count": 275,
   "metadata": {},
   "outputs": [],
   "source": [
    "ocean.columns = range(10)"
   ]
  },
  {
   "cell_type": "code",
   "execution_count": 276,
   "metadata": {},
   "outputs": [],
   "source": [
    "ocean.to_csv('oceans/data.csv')"
   ]
  },
  {
   "cell_type": "code",
   "execution_count": 277,
   "metadata": {},
   "outputs": [],
   "source": [
    "ocean = pd.DataFrame(data=ocean.values.reshape((5940, 360)), columns=range(360))"
   ]
  },
  {
   "cell_type": "code",
   "execution_count": 278,
   "metadata": {
    "scrolled": true
   },
   "outputs": [],
   "source": [
    "ocean = ocean.replace(-99.0, np.NaN)"
   ]
  },
  {
   "cell_type": "code",
   "execution_count": 279,
   "metadata": {},
   "outputs": [],
   "source": [
    "import numpy as np\n",
    "\n",
    "years = []\n",
    "for i in range(66):\n",
    "    y = [1955 + i] * 90\n",
    "    years.extend(y)\n",
    "\n",
    "years = np.array(years)"
   ]
  },
  {
   "cell_type": "code",
   "execution_count": 280,
   "metadata": {},
   "outputs": [],
   "source": [
    "ocean['year'] = years"
   ]
  },
  {
   "cell_type": "code",
   "execution_count": 281,
   "metadata": {},
   "outputs": [],
   "source": [
    "ocean.to_csv('oceans/year_data.csv')"
   ]
  },
  {
   "cell_type": "code",
   "execution_count": 308,
   "metadata": {},
   "outputs": [],
   "source": [
    "_median = ocean.groupby('year').median()\n",
    "_mean = ocean.groupby('year').mean()\n",
    "_variance = ocean.groupby('year').var()\n",
    "_max = ocean.groupby('year').max()\n",
    "_min = ocean.groupby('year').min()"
   ]
  },
  {
   "cell_type": "code",
   "execution_count": 309,
   "metadata": {},
   "outputs": [],
   "source": [
    "_median = _median.min(axis=1).values\n",
    "_mean = _mean.min(axis=1).values\n",
    "_variance = _variance.min(axis=1).values\n",
    "_max = _max.min(axis=1).values\n",
    "_min = _min.min(axis=1).values"
   ]
  },
  {
   "cell_type": "code",
   "execution_count": 314,
   "metadata": {},
   "outputs": [],
   "source": [
    "df = pd.DataFrame(data={\n",
    "    'median': _median, \n",
    "    'mean': _mean, \n",
    "    'variance': _variance, \n",
    "    'max': _max, \n",
    "    'min': _min,\n",
    "    'year': range(1955, 2021)\n",
    "})"
   ]
  },
  {
   "cell_type": "code",
   "execution_count": 318,
   "metadata": {},
   "outputs": [],
   "source": [
    "df.to_csv('oceans/summerized_data.csv')"
   ]
  },
  {
   "cell_type": "code",
   "execution_count": 268,
   "metadata": {},
   "outputs": [],
   "source": [
    "l = ocean.groupby('year').min()"
   ]
  },
  {
   "cell_type": "code",
   "execution_count": 269,
   "metadata": {},
   "outputs": [
    {
     "data": {
      "text/html": [
       "<div>\n",
       "<style scoped>\n",
       "    .dataframe tbody tr th:only-of-type {\n",
       "        vertical-align: middle;\n",
       "    }\n",
       "\n",
       "    .dataframe tbody tr th {\n",
       "        vertical-align: top;\n",
       "    }\n",
       "\n",
       "    .dataframe thead th {\n",
       "        text-align: right;\n",
       "    }\n",
       "</style>\n",
       "<table border=\"1\" class=\"dataframe\">\n",
       "  <thead>\n",
       "    <tr style=\"text-align: right;\">\n",
       "      <th></th>\n",
       "      <th>0</th>\n",
       "      <th>1</th>\n",
       "      <th>2</th>\n",
       "      <th>3</th>\n",
       "      <th>4</th>\n",
       "      <th>5</th>\n",
       "      <th>6</th>\n",
       "      <th>7</th>\n",
       "      <th>8</th>\n",
       "      <th>9</th>\n",
       "      <th>...</th>\n",
       "      <th>355</th>\n",
       "      <th>356</th>\n",
       "      <th>357</th>\n",
       "      <th>358</th>\n",
       "      <th>359</th>\n",
       "      <th>median</th>\n",
       "      <th>mean</th>\n",
       "      <th>variance</th>\n",
       "      <th>max</th>\n",
       "      <th>min</th>\n",
       "    </tr>\n",
       "    <tr>\n",
       "      <th>year</th>\n",
       "      <th></th>\n",
       "      <th></th>\n",
       "      <th></th>\n",
       "      <th></th>\n",
       "      <th></th>\n",
       "      <th></th>\n",
       "      <th></th>\n",
       "      <th></th>\n",
       "      <th></th>\n",
       "      <th></th>\n",
       "      <th></th>\n",
       "      <th></th>\n",
       "      <th></th>\n",
       "      <th></th>\n",
       "      <th></th>\n",
       "      <th></th>\n",
       "      <th></th>\n",
       "      <th></th>\n",
       "      <th></th>\n",
       "      <th></th>\n",
       "      <th></th>\n",
       "    </tr>\n",
       "  </thead>\n",
       "  <tbody>\n",
       "    <tr>\n",
       "      <th>1955</th>\n",
       "      <td>-1.3234</td>\n",
       "      <td>-0.7585</td>\n",
       "      <td>-1.2392</td>\n",
       "      <td>-0.3234</td>\n",
       "      <td>-1.2887</td>\n",
       "      <td>-0.8942</td>\n",
       "      <td>-1.8383</td>\n",
       "      <td>-1.4541</td>\n",
       "      <td>-1.2120</td>\n",
       "      <td>-0.8860</td>\n",
       "      <td>...</td>\n",
       "      <td>-1.3029</td>\n",
       "      <td>-1.6535</td>\n",
       "      <td>-1.2935</td>\n",
       "      <td>-1.4105</td>\n",
       "      <td>-0.8164</td>\n",
       "      <td>1.35790</td>\n",
       "      <td>3.908298</td>\n",
       "      <td>31.986044</td>\n",
       "      <td>20.7569</td>\n",
       "      <td>-2.2577</td>\n",
       "    </tr>\n",
       "    <tr>\n",
       "      <th>1956</th>\n",
       "      <td>-1.8250</td>\n",
       "      <td>-1.8131</td>\n",
       "      <td>-1.6808</td>\n",
       "      <td>-1.7852</td>\n",
       "      <td>-1.4664</td>\n",
       "      <td>-1.8389</td>\n",
       "      <td>-1.8300</td>\n",
       "      <td>-1.8496</td>\n",
       "      <td>-1.8366</td>\n",
       "      <td>-1.8425</td>\n",
       "      <td>...</td>\n",
       "      <td>-1.7900</td>\n",
       "      <td>-1.7700</td>\n",
       "      <td>-1.7810</td>\n",
       "      <td>-1.7800</td>\n",
       "      <td>-1.7780</td>\n",
       "      <td>3.40840</td>\n",
       "      <td>7.599363</td>\n",
       "      <td>63.871600</td>\n",
       "      <td>28.5906</td>\n",
       "      <td>-2.5984</td>\n",
       "    </tr>\n",
       "    <tr>\n",
       "      <th>1957</th>\n",
       "      <td>-1.1270</td>\n",
       "      <td>-0.8375</td>\n",
       "      <td>-1.3144</td>\n",
       "      <td>-0.3118</td>\n",
       "      <td>-1.0619</td>\n",
       "      <td>-0.8173</td>\n",
       "      <td>-1.5353</td>\n",
       "      <td>-1.4068</td>\n",
       "      <td>-1.1795</td>\n",
       "      <td>-0.8846</td>\n",
       "      <td>...</td>\n",
       "      <td>-1.2261</td>\n",
       "      <td>-1.5021</td>\n",
       "      <td>-1.3422</td>\n",
       "      <td>-1.4118</td>\n",
       "      <td>-0.9733</td>\n",
       "      <td>4.02585</td>\n",
       "      <td>7.417669</td>\n",
       "      <td>51.629944</td>\n",
       "      <td>27.3853</td>\n",
       "      <td>-2.4426</td>\n",
       "    </tr>\n",
       "    <tr>\n",
       "      <th>1958</th>\n",
       "      <td>-1.8300</td>\n",
       "      <td>-1.8189</td>\n",
       "      <td>-1.8206</td>\n",
       "      <td>-1.7974</td>\n",
       "      <td>-1.6955</td>\n",
       "      <td>-1.8164</td>\n",
       "      <td>-1.8175</td>\n",
       "      <td>-1.8496</td>\n",
       "      <td>-1.8394</td>\n",
       "      <td>-1.8446</td>\n",
       "      <td>...</td>\n",
       "      <td>-1.7900</td>\n",
       "      <td>-1.7700</td>\n",
       "      <td>-1.7835</td>\n",
       "      <td>-1.7905</td>\n",
       "      <td>-1.7795</td>\n",
       "      <td>3.15100</td>\n",
       "      <td>5.508078</td>\n",
       "      <td>46.956186</td>\n",
       "      <td>27.4867</td>\n",
       "      <td>-2.2503</td>\n",
       "    </tr>\n",
       "    <tr>\n",
       "      <th>1959</th>\n",
       "      <td>-1.2314</td>\n",
       "      <td>-0.9614</td>\n",
       "      <td>-1.2660</td>\n",
       "      <td>-0.3436</td>\n",
       "      <td>-1.4038</td>\n",
       "      <td>-1.4431</td>\n",
       "      <td>-1.5338</td>\n",
       "      <td>-1.4473</td>\n",
       "      <td>-1.2266</td>\n",
       "      <td>-1.1031</td>\n",
       "      <td>...</td>\n",
       "      <td>-1.3417</td>\n",
       "      <td>-1.5393</td>\n",
       "      <td>-1.3449</td>\n",
       "      <td>-1.4120</td>\n",
       "      <td>-1.1939</td>\n",
       "      <td>NaN</td>\n",
       "      <td>NaN</td>\n",
       "      <td>NaN</td>\n",
       "      <td>NaN</td>\n",
       "      <td>NaN</td>\n",
       "    </tr>\n",
       "  </tbody>\n",
       "</table>\n",
       "<p>5 rows × 365 columns</p>\n",
       "</div>"
      ],
      "text/plain": [
       "           0       1       2       3       4       5       6       7       8  \\\n",
       "year                                                                           \n",
       "1955 -1.3234 -0.7585 -1.2392 -0.3234 -1.2887 -0.8942 -1.8383 -1.4541 -1.2120   \n",
       "1956 -1.8250 -1.8131 -1.6808 -1.7852 -1.4664 -1.8389 -1.8300 -1.8496 -1.8366   \n",
       "1957 -1.1270 -0.8375 -1.3144 -0.3118 -1.0619 -0.8173 -1.5353 -1.4068 -1.1795   \n",
       "1958 -1.8300 -1.8189 -1.8206 -1.7974 -1.6955 -1.8164 -1.8175 -1.8496 -1.8394   \n",
       "1959 -1.2314 -0.9614 -1.2660 -0.3436 -1.4038 -1.4431 -1.5338 -1.4473 -1.2266   \n",
       "\n",
       "           9   ...       355     356     357     358     359   median  \\\n",
       "year           ...                                                      \n",
       "1955 -0.8860   ...   -1.3029 -1.6535 -1.2935 -1.4105 -0.8164  1.35790   \n",
       "1956 -1.8425   ...   -1.7900 -1.7700 -1.7810 -1.7800 -1.7780  3.40840   \n",
       "1957 -0.8846   ...   -1.2261 -1.5021 -1.3422 -1.4118 -0.9733  4.02585   \n",
       "1958 -1.8446   ...   -1.7900 -1.7700 -1.7835 -1.7905 -1.7795  3.15100   \n",
       "1959 -1.1031   ...   -1.3417 -1.5393 -1.3449 -1.4120 -1.1939      NaN   \n",
       "\n",
       "          mean   variance      max     min  \n",
       "year                                        \n",
       "1955  3.908298  31.986044  20.7569 -2.2577  \n",
       "1956  7.599363  63.871600  28.5906 -2.5984  \n",
       "1957  7.417669  51.629944  27.3853 -2.4426  \n",
       "1958  5.508078  46.956186  27.4867 -2.2503  \n",
       "1959       NaN        NaN      NaN     NaN  \n",
       "\n",
       "[5 rows x 365 columns]"
      ]
     },
     "execution_count": 269,
     "metadata": {},
     "output_type": "execute_result"
    }
   ],
   "source": [
    "l.head()"
   ]
  },
  {
   "cell_type": "code",
   "execution_count": 228,
   "metadata": {},
   "outputs": [
    {
     "data": {
      "text/plain": [
       "<matplotlib.axes._subplots.AxesSubplot at 0x1221cb438>"
      ]
     },
     "execution_count": 228,
     "metadata": {},
     "output_type": "execute_result"
    },
    {
     "data": {
      "image/png": "[encoded data removed]",
      "text/plain": [
       "<Figure size 432x288 with 1 Axes>"
      ]
     },
     "metadata": {
      "needs_background": "light"
     },
     "output_type": "display_data"
    }
   ],
   "source": [
    "ocean.plot(kind='line',x='year',y='median',color='red')"
   ]
  },
  {
   "cell_type": "code",
   "execution_count": 57,
   "metadata": {},
   "outputs": [],
   "source": [
    "base = val[-1]\n",
    "arr = []\n",
    "for value in val:\n",
    "    arr.append((value - base)/base)"
   ]
  },
  {
   "cell_type": "code",
   "execution_count": 126,
   "metadata": {},
   "outputs": [],
   "source": [
    "import numpy as np\n",
    "\n",
    "arr = np.array([[1, 2], [3, 4], [5, 6]])"
   ]
  },
  {
   "cell_type": "code",
   "execution_count": 127,
   "metadata": {},
   "outputs": [
    {
     "data": {
      "text/plain": [
       "array([[1, 2],\n",
       "       [3, 4],\n",
       "       [5, 6]])"
      ]
     },
     "execution_count": 127,
     "metadata": {},
     "output_type": "execute_result"
    }
   ],
   "source": [
    "arr"
   ]
  },
  {
   "cell_type": "code",
   "execution_count": 128,
   "metadata": {},
   "outputs": [
    {
     "data": {
      "text/plain": [
       "array([[1, 2, 3],\n",
       "       [4, 5, 6]])"
      ]
     },
     "execution_count": 128,
     "metadata": {},
     "output_type": "execute_result"
    }
   ],
   "source": [
    "arr.reshape((2, 3))"
   ]
  },
  {
   "cell_type": "code",
   "execution_count": null,
   "metadata": {},
   "outputs": [],
   "source": []
  }
 ],
 "metadata": {
  "kernelspec": {
   "display_name": "Python 3",
   "language": "python",
   "name": "python3"
  },
  "language_info": {
   "codemirror_mode": {
    "name": "ipython",
    "version": 3
   },
   "file_extension": ".py",
   "mimetype": "text/x-python",
   "name": "python",
   "nbconvert_exporter": "python",
   "pygments_lexer": "ipython3",
   "version": "3.6.5"
  }
 },
 "nbformat": 4,
 "nbformat_minor": 2
}
